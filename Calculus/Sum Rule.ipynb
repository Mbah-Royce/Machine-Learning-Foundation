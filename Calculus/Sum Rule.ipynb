{
 "cells": [
  {
   "cell_type": "markdown",
   "id": "0222718d-2f9e-4b18-a67b-abad8d6f9524",
   "metadata": {},
   "source": [
    "# The Sum Rule"
   ]
  },
  {
   "cell_type": "code",
   "execution_count": 2,
   "id": "be6a390c-dff8-4e1c-95d7-60f7c5f9b216",
   "metadata": {},
   "outputs": [],
   "source": [
    "from sympy import *\n",
    "from scipy.differentiate  import derivative"
   ]
  },
  {
   "cell_type": "code",
   "execution_count": 3,
   "id": "ff745405-64ac-4d93-81b7-f5b1e3a53fdb",
   "metadata": {},
   "outputs": [
    {
     "data": {
      "text/latex": [
       "$\\displaystyle \\frac{d}{d x} \\left(7 x^{3} + x^{2} + 1\\right)$"
      ],
      "text/plain": [
       "Derivative(7*x**3 + x**2 + 1, x)"
      ]
     },
     "execution_count": 3,
     "metadata": {},
     "output_type": "execute_result"
    }
   ],
   "source": [
    "x = Symbol('x')\n",
    "Fx = 7*x**3+x**2+1\n",
    "Derivative(Fx,x)"
   ]
  },
  {
   "cell_type": "code",
   "execution_count": 4,
   "id": "b261d883-fc00-402a-9650-18715c3b31d0",
   "metadata": {},
   "outputs": [
    {
     "data": {
      "text/latex": [
       "$\\displaystyle 21 x^{2} + 2 x$"
      ],
      "text/plain": [
       "21*x**2 + 2*x"
      ]
     },
     "execution_count": 4,
     "metadata": {},
     "output_type": "execute_result"
    }
   ],
   "source": [
    "Derivative(Fx,x).doit()"
   ]
  },
  {
   "cell_type": "code",
   "execution_count": 5,
   "id": "6d393718-1b6a-41b3-b0bd-68a07881b3b6",
   "metadata": {},
   "outputs": [
    {
     "data": {
      "text/latex": [
       "$\\displaystyle 23$"
      ],
      "text/plain": [
       "23"
      ]
     },
     "execution_count": 5,
     "metadata": {},
     "output_type": "execute_result"
    }
   ],
   "source": [
    "dFx = diff(Fx,x)\n",
    "dFx.subs(x,1)"
   ]
  }
 ],
 "metadata": {
  "kernelspec": {
   "display_name": "Python 3 (ipykernel)",
   "language": "python",
   "name": "python3"
  },
  "language_info": {
   "codemirror_mode": {
    "name": "ipython",
    "version": 3
   },
   "file_extension": ".py",
   "mimetype": "text/x-python",
   "name": "python",
   "nbconvert_exporter": "python",
   "pygments_lexer": "ipython3",
   "version": "3.13.5"
  }
 },
 "nbformat": 4,
 "nbformat_minor": 5
}
