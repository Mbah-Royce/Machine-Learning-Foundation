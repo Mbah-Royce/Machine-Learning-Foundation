{
 "cells": [
  {
   "cell_type": "markdown",
   "id": "770c32fa-993d-4c17-a6a7-520e93147308",
   "metadata": {},
   "source": [
    "# Partial Derivatives"
   ]
  },
  {
   "cell_type": "code",
   "execution_count": 1,
   "id": "4c813689-6c34-403c-bc97-93f217397204",
   "metadata": {},
   "outputs": [],
   "source": [
    "from sympy import *"
   ]
  },
  {
   "cell_type": "code",
   "execution_count": 5,
   "id": "0713ab36-76a2-4f1c-bf30-127926d89d12",
   "metadata": {},
   "outputs": [
    {
     "data": {
      "text/latex": [
       "$\\displaystyle x^{2} + 5 x y z + y^{3} + z^{4}$"
      ],
      "text/plain": [
       "x**2 + 5*x*y*z + y**3 + z**4"
      ]
     },
     "execution_count": 5,
     "metadata": {},
     "output_type": "execute_result"
    }
   ],
   "source": [
    "x, y, z = symbols('x,y,z', real=True)\n",
    "f = x**2 + y**3 + z**4 + 5*x*y*z\n",
    "f"
   ]
  },
  {
   "cell_type": "code",
   "execution_count": 6,
   "id": "299e5909-7d44-47bc-9dfd-c243914ac220",
   "metadata": {},
   "outputs": [
    {
     "name": "stdout",
     "output_type": "stream",
     "text": [
      " f_x= 2*x + 5*y*z\n",
      " f_y= 5*x*z + 3*y**2\n",
      " f_z= 5*x*y + 4*z**3\n"
     ]
    }
   ],
   "source": [
    "for var in [x,y,z]:\n",
    "    print(\" f_\" + str(var) + \"=\",f.diff(var))"
   ]
  },
  {
   "cell_type": "code",
   "execution_count": null,
   "id": "48c6fe01-151b-4372-99c4-da59d5691f2f",
   "metadata": {},
   "outputs": [],
   "source": []
  }
 ],
 "metadata": {
  "kernelspec": {
   "display_name": "Python 3 (ipykernel)",
   "language": "python",
   "name": "python3"
  },
  "language_info": {
   "codemirror_mode": {
    "name": "ipython",
    "version": 3
   },
   "file_extension": ".py",
   "mimetype": "text/x-python",
   "name": "python",
   "nbconvert_exporter": "python",
   "pygments_lexer": "ipython3",
   "version": "3.13.5"
  }
 },
 "nbformat": 4,
 "nbformat_minor": 5
}
