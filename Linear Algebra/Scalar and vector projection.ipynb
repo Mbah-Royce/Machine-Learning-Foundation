{
 "cells": [
  {
   "cell_type": "markdown",
   "id": "ea7a7fd5-5751-4ddf-88ad-5c757267e683",
   "metadata": {},
   "source": [
    "# Scalar and vector projection"
   ]
  },
  {
   "cell_type": "code",
   "execution_count": 2,
   "id": "7d8f56f9-d29b-4b02-8050-36667bcea79d",
   "metadata": {},
   "outputs": [],
   "source": [
    "import numpy as np\n",
    "from numpy import linalg as lng"
   ]
  },
  {
   "cell_type": "code",
   "execution_count": 3,
   "id": "621b70b8-5ad0-4f9b-b23c-5fbe6adba7fb",
   "metadata": {},
   "outputs": [],
   "source": [
    "a = np.array([10,20,30,40,50])\n",
    "b = np.array([60,70,80,90,100])"
   ]
  },
  {
   "cell_type": "code",
   "execution_count": 4,
   "id": "2f522db9-287a-4510-a3cd-e8fba8bc7adb",
   "metadata": {},
   "outputs": [
    {
     "data": {
      "text/plain": [
       "np.float64(74.16198487095663)"
      ]
     },
     "execution_count": 4,
     "metadata": {},
     "output_type": "execute_result"
    }
   ],
   "source": [
    "lng.norm(a) # magnitude"
   ]
  },
  {
   "cell_type": "code",
   "execution_count": 6,
   "id": "c77b3fc8-84f7-452f-868c-c4bcda07f8f2",
   "metadata": {},
   "outputs": [],
   "source": [
    "vector_projection = (np.dot(a,b)/np.dot(b,b))*b"
   ]
  },
  {
   "cell_type": "code",
   "execution_count": 7,
   "id": "9e294968-4857-4fee-b555-d732266dd37d",
   "metadata": {},
   "outputs": [
    {
     "data": {
      "text/plain": [
       "array([23.63636364, 27.57575758, 31.51515152, 35.45454545, 39.39393939])"
      ]
     },
     "execution_count": 7,
     "metadata": {},
     "output_type": "execute_result"
    }
   ],
   "source": [
    "vector_projection"
   ]
  },
  {
   "cell_type": "code",
   "execution_count": null,
   "id": "2143419e-979f-4a7d-8d20-32c0ddefaad9",
   "metadata": {},
   "outputs": [],
   "source": []
  }
 ],
 "metadata": {
  "kernelspec": {
   "display_name": "Python 3 (ipykernel)",
   "language": "python",
   "name": "python3"
  },
  "language_info": {
   "codemirror_mode": {
    "name": "ipython",
    "version": 3
   },
   "file_extension": ".py",
   "mimetype": "text/x-python",
   "name": "python",
   "nbconvert_exporter": "python",
   "pygments_lexer": "ipython3",
   "version": "3.13.5"
  }
 },
 "nbformat": 4,
 "nbformat_minor": 5
}
