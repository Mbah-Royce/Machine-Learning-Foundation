{
 "cells": [
  {
   "cell_type": "markdown",
   "id": "06ba4b02-bcc6-4aa4-8dd7-2ab2f2d7156e",
   "metadata": {},
   "source": [
    "# Dot product of vectors"
   ]
  },
  {
   "cell_type": "code",
   "execution_count": 1,
   "id": "a534c9ee-f458-4dba-b8a3-cbecb54f2da5",
   "metadata": {},
   "outputs": [],
   "source": [
    "import numpy as np"
   ]
  },
  {
   "cell_type": "code",
   "execution_count": 2,
   "id": "99e40c32-599e-45b6-a4aa-2b672b93eb19",
   "metadata": {},
   "outputs": [],
   "source": [
    "a = np.array([1,2,3,4,5])\n",
    "b = np.array([6,7,8,9,10])"
   ]
  },
  {
   "cell_type": "code",
   "execution_count": 3,
   "id": "8a4979af-e339-4fe7-9b2e-d10e372b0322",
   "metadata": {},
   "outputs": [
    {
     "data": {
      "text/plain": [
       "np.int64(130)"
      ]
     },
     "execution_count": 3,
     "metadata": {},
     "output_type": "execute_result"
    }
   ],
   "source": [
    "np.dot(a,b)"
   ]
  },
  {
   "cell_type": "code",
   "execution_count": 5,
   "id": "c8f37d87-9d05-4f7c-9474-b348bc0c2efe",
   "metadata": {},
   "outputs": [],
   "source": [
    "c = np.array([11,12,13,14,15])"
   ]
  },
  {
   "cell_type": "code",
   "execution_count": 6,
   "id": "315abe34-fcc6-4268-a6e9-68da11a68a02",
   "metadata": {},
   "outputs": [
    {
     "data": {
      "text/plain": [
       "np.int64(130)"
      ]
     },
     "execution_count": 6,
     "metadata": {},
     "output_type": "execute_result"
    }
   ],
   "source": [
    "np.dot(b,a) # commutative"
   ]
  },
  {
   "cell_type": "code",
   "execution_count": 7,
   "id": "da0a4041-3552-4011-863e-7515e132e63d",
   "metadata": {},
   "outputs": [
    {
     "name": "stdout",
     "output_type": "stream",
     "text": [
      "335\n"
     ]
    }
   ],
   "source": [
    "first_result = np.dot(a, b+c)\n",
    "print(first_result)"
   ]
  },
  {
   "cell_type": "code",
   "execution_count": 8,
   "id": "3449ec7d-d7a7-478b-bfed-535a94a69186",
   "metadata": {},
   "outputs": [
    {
     "name": "stdout",
     "output_type": "stream",
     "text": [
      "335\n"
     ]
    }
   ],
   "source": [
    "second_result = np.dot(a,b) + np.dot(a,c)\n",
    "print(second_result)"
   ]
  },
  {
   "cell_type": "code",
   "execution_count": null,
   "id": "eab76a9c-20eb-4770-bf87-13dcd86b20ba",
   "metadata": {},
   "outputs": [],
   "source": []
  }
 ],
 "metadata": {
  "kernelspec": {
   "display_name": "Python 3 (ipykernel)",
   "language": "python",
   "name": "python3"
  },
  "language_info": {
   "codemirror_mode": {
    "name": "ipython",
    "version": 3
   },
   "file_extension": ".py",
   "mimetype": "text/x-python",
   "name": "python",
   "nbconvert_exporter": "python",
   "pygments_lexer": "ipython3",
   "version": "3.13.5"
  }
 },
 "nbformat": 4,
 "nbformat_minor": 5
}
